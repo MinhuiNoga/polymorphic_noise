{
 "cells": [
  {
   "cell_type": "code",
   "execution_count": 1,
   "metadata": {},
   "outputs": [],
   "source": [
    "import numpy as np\n",
    "import pandas as pd\n",
    "import librosa #用來提取音頻特徵MFCC\n",
    "\n",
    "import tensorflow as tf\n",
    "from tensorflow.keras.layers import Activation, BatchNormalization, Dense, LayerNormalization\n",
    "from tensorflow.keras.models import Sequential, load_model\n",
    "from tensorflow.keras.callbacks import EarlyStopping, ModelCheckpoint\n",
    "\n",
    "from sklearn.model_selection import train_test_split\n",
    "from sklearn.metrics import confusion_matrix, ConfusionMatrixDisplay, recall_score"
   ]
  },
  {
   "cell_type": "code",
   "execution_count": 3,
   "metadata": {},
   "outputs": [],
   "source": [
    "# default hyperparameters\n",
    "NEURONS = 300                    #每個隱藏層的神經元數量       \n",
    "HIDDEN_LAYERS = 3                #隱藏層的層數 3層\n",
    "\n",
    "def create_DNN(input_shape, neurons = NEURONS, hidden_layers = HIDDEN_LAYERS, learning_rate = 0.001, verbose=0):      #定義一個函數用於建立深度神經網路模型\n",
    "    model = Sequential()                                                        # 定義一個Sequential物件作為模型容器\n",
    "\n",
    "    model.add(Dense(neurons, input_dim=input_shape))                            # 設定神經元數目及輸入層維度\n",
    "    model.add(Activation('relu'))                                               # 設定激活函數為ReLU\n",
    "\n",
    "    for i in range(hidden_layers-1):                                            # 建立模型的隱藏層\n",
    "        model.add(Dense(neurons))                                               # 設定神經元數目\n",
    "        model.add(Activation('sigmoid'))                                        # 設定激活函數為sigmoid\n",
    "\n",
    "    # 建立模型的輸出層\n",
    "    model.add(Dense(3))                                                         # 設定神經元數目為3，代表輸出為三個類別：開心、中性、憂鬱\n",
    "    model.add(Activation('softmax'))                                            # 設定激活函數為softmax\n",
    "\n",
    "    opt = tf.keras.optimizers.Adam(learning_rate=learning_rate)                 # 設定優化器及損失函數\n",
    "    model.compile(loss='categorical_crossentropy', optimizer=opt, metrics=['accuracy']) # categorical_crossentropy\n",
    "\n",
    "    if verbose:                                                                 # 如果verbose為1，印出模型摘要\n",
    "        model.summary()                                                         \n",
    "    \n",
    "    return model                                                                # 回傳建立好的模型"
   ]
  },
  {
   "attachments": {},
   "cell_type": "markdown",
   "metadata": {},
   "source": [
    "特徵訓練\n"
   ]
  },
  {
   "cell_type": "code",
   "execution_count": null,
   "metadata": {},
   "outputs": [],
   "source": [
    "model = create_DNN(input_shape = x_train.shape[1], verbose=1)                   "
   ]
  },
  {
   "cell_type": "code",
   "execution_count": null,
   "metadata": {},
   "outputs": [],
   "source": [
    "MODEL_SAVE_NAME = \"AI_CUP_medical_sample_model\"                                                             #模型名稱\n",
    "\n",
    "train_results = model.fit(x_train, y_train, batch_size=None, epochs=100,                                    #訓練時每批次的數據量=32、整個數據集重複訓練的次數100\n",
    "                              callbacks=[EarlyStopping(monitor='val_loss', patience=10, mode='auto'),       #EarlyStopping：訓練早期停止機制，當監測的指標停滯不前時提前停止訓練\n",
    "                                         ModelCheckpoint(MODEL_SAVE_NAME+\".h5\", save_best_only=True)],      #ModelCheckpoint：定期保存模型參數，可以在訓練過程中保存最佳的模型參數\n",
    "                              validation_data=(x_val, y_val))                                               #validation_data：驗證數據"
   ]
  },
  {
   "attachments": {},
   "cell_type": "markdown",
   "metadata": {},
   "source": [
    "data training"
   ]
  },
  {
   "cell_type": "code",
   "execution_count": null,
   "metadata": {},
   "outputs": [],
   "source": [
    "y_pred = model.predict(training_df.iloc[:, :-1]).argmax(axis=1)                                         # 進行模型預測，取得每個樣本預測結果的類別編號\n",
    "y_true = training_df['Disease category'] - 1                                                            # 取得每個樣本實際的類別編號\n",
    "\n",
    "results_recall = recall_score(y_true, y_pred, average=None)                                             # 計算每個類別的召回率\n",
    "print(\"Training UAR(Unweighted Average Recall) :\", results_recall.mean())                               # 輸出平均召回率\n",
    "ConfusionMatrixDisplay(confusion_matrix(y_true, y_pred)).plot(cmap='Blues')                             # 輸出混淆矩陣的圖表表示，以藍色調為主調"
   ]
  },
  {
   "attachments": {},
   "cell_type": "markdown",
   "metadata": {},
   "source": [
    "驗證資料Test result"
   ]
  },
  {
   "cell_type": "code",
   "execution_count": null,
   "metadata": {},
   "outputs": [],
   "source": [
    "y_pred = model.predict(test_df.iloc[:, :-1]).argmax(axis=1)\n",
    "y_true = test_df['Disease category'] - 1\n",
    "\n",
    "results_recall = recall_score(y_true, y_pred, average=None)\n",
    "print(\"Test UAR(Unweighted Average Recall) :\", results_recall.mean())\n",
    "ConfusionMatrixDisplay(confusion_matrix(y_true, y_pred)).plot(cmap='Blues')"
   ]
  }
 ],
 "metadata": {
  "kernelspec": {
   "display_name": "Python 3",
   "language": "python",
   "name": "python3"
  },
  "language_info": {
   "codemirror_mode": {
    "name": "ipython",
    "version": 3
   },
   "file_extension": ".py",
   "mimetype": "text/x-python",
   "name": "python",
   "nbconvert_exporter": "python",
   "pygments_lexer": "ipython3",
   "version": "3.8.6"
  },
  "orig_nbformat": 4
 },
 "nbformat": 4,
 "nbformat_minor": 2
}

{
 "cells": [
  {
   "attachments": {},
   "cell_type": "markdown",
   "metadata": {},
   "source": [
    "#import"
   ]
  },
  {
   "cell_type": "code",
   "execution_count": 215,
   "metadata": {},
   "outputs": [],
   "source": [
    "\n",
    "import numpy as np\n",
    "import pandas as pd\n",
    "import librosa\n",
    "\n",
    "from sklearn.model_selection import train_test_split\n",
    "from scipy.stats import skew\n",
    "\n",
    "from sklearn.multiclass import  OneVsOneClassifier\n",
    "from sklearn.svm import LinearSVC\n",
    "from sklearn.pipeline import make_pipeline\n",
    "from sklearn.svm import SVC\n",
    "from sklearn.preprocessing import OneHotEncoder\n",
    "from sklearn.multiclass import OneVsOneClassifier\n",
    "\n",
    "\n",
    "import tensorflow as tf\n",
    "from tensorflow.keras.layers import Activation, BatchNormalization, Dense, LayerNormalization\n",
    "from tensorflow.keras.models import Sequential, load_model\n",
    "from tensorflow.keras.callbacks import EarlyStopping, ModelCheckpoint\n",
    "\n",
    "from sklearn.model_selection import train_test_split\n",
    "from sklearn.metrics import confusion_matrix, ConfusionMatrixDisplay, recall_score"
   ]
  },
  {
   "attachments": {},
   "cell_type": "markdown",
   "metadata": {},
   "source": [
    "資料前處理"
   ]
  },
  {
   "cell_type": "code",
   "execution_count": 217,
   "metadata": {},
   "outputs": [
    {
     "name": "stdout",
     "output_type": "stream",
     "text": [
      "資料資訊\n",
      "<class 'pandas.core.frame.DataFrame'>\n",
      "RangeIndex: 1000 entries, 0 to 999\n",
      "Data columns (total 28 columns):\n",
      " #   Column                     Non-Null Count  Dtype  \n",
      "---  ------                     --------------  -----  \n",
      " 0   ID                         1000 non-null   object \n",
      " 1   Sex                        1000 non-null   int64  \n",
      " 2   Age                        1000 non-null   int64  \n",
      " 3   Disease category           1000 non-null   int64  \n",
      " 4   Narrow pitch range         1000 non-null   int64  \n",
      " 5   Decreased volume           1000 non-null   int64  \n",
      " 6   Fatigue                    1000 non-null   int64  \n",
      " 7   Dryness                    1000 non-null   int64  \n",
      " 8   Lumping                    1000 non-null   int64  \n",
      " 9   heartburn                  1000 non-null   int64  \n",
      " 10  Choking                    1000 non-null   int64  \n",
      " 11  Eye dryness                1000 non-null   int64  \n",
      " 12  PND                        1000 non-null   int64  \n",
      " 13  Smoking                    1000 non-null   int64  \n",
      " 14  PPD                        184 non-null    float64\n",
      " 15  Drinking                   1000 non-null   int64  \n",
      " 16  frequency                  1000 non-null   int64  \n",
      " 17  Diurnal pattern            1000 non-null   int64  \n",
      " 18  Onset of dysphonia         1000 non-null   int64  \n",
      " 19  Noise at work              1000 non-null   int64  \n",
      " 20  Occupational vocal demand  1000 non-null   int64  \n",
      " 21  Diabetes                   1000 non-null   int64  \n",
      " 22  Hypertension               1000 non-null   int64  \n",
      " 23  CAD                        1000 non-null   int64  \n",
      " 24  Head and Neck Cancer       1000 non-null   int64  \n",
      " 25  Head injury                1000 non-null   int64  \n",
      " 26  CVA                        1000 non-null   int64  \n",
      " 27  Voice handicap index - 10  993 non-null    float64\n",
      "dtypes: float64(2), int64(25), object(1)\n",
      "memory usage: 218.9+ KB\n"
     ]
    }
   ],
   "source": [
    "# 資料判斷\n",
    "df_csv = pd.read_csv(\"Training Dataset/training datalist.csv\")\n",
    "print(\"資料資訊\")\n",
    "df_csv.info()"
   ]
  },
  {
   "cell_type": "code",
   "execution_count": 218,
   "metadata": {},
   "outputs": [
    {
     "name": "stdout",
     "output_type": "stream",
     "text": [
      "Disease category in source_df : [1 2 3 5 4]\n",
      "source_df :\n",
      " 0      ./Training Dataset/training_voice_data/1202f15...\n",
      "1      ./Training Dataset/training_voice_data/0600ve0...\n",
      "2      ./Training Dataset/training_voice_data/1001o7l...\n",
      "3      ./Training Dataset/training_voice_data/1201c1t...\n",
      "4      ./Training Dataset/training_voice_data/0402jvt...\n",
      "                             ...                        \n",
      "995    ./Training Dataset/training_voice_data/0G00ftn...\n",
      "996    ./Training Dataset/training_voice_data/1201pkr...\n",
      "997    ./Training Dataset/training_voice_data/0202p64...\n",
      "998    ./Training Dataset/training_voice_data/12021au...\n",
      "999    ./Training Dataset/training_voice_data/04027it...\n",
      "Name: wav_path, Length: 1000, dtype: object\n"
     ]
    }
   ],
   "source": [
    "# 挑選出要訓練的Disease category 1、2、3\n",
    "df_csv = df_csv.loc[df_csv['Disease category'].isin([1, 2, 3, 4, 5]), ['ID', 'Disease category']]\n",
    "\n",
    "# 在dataframe中加入要訓練的音檔路徑\n",
    "df_csv['wav_path'] = df_csv['ID'].map(\"./Training Dataset/training_voice_data/{}.wav\".format)\n",
    "\n",
    "print(\"Disease category in source_df :\",df_csv['Disease category'].unique())\n",
    "print(\"source_df :\\n\", df_csv[\"wav_path\"])"
   ]
  },
  {
   "cell_type": "code",
   "execution_count": 219,
   "metadata": {},
   "outputs": [],
   "source": [
    "# 定義函數\n",
    "def audio_to_mfccs(filename, sample_rate=44100, offset=0, duration=None):\n",
    "    # 讀取音訊檔案，並設定取樣率、起始時間、及持續時間\n",
    "    voice, sample_rate = librosa.load(\n",
    "        filename, sr=sample_rate, offset=offset, duration=duration\n",
    "    )\n",
    "\n",
    "    # 將時間值轉換為 FFT 與 hop length 所需的框架數 (以取樣點表示)\n",
    "    n_fft = int(16/1000 * sample_rate)  # 將 16 毫秒轉換為取樣點\n",
    "    hop_length = int(8/1000 * sample_rate)  # 將 8 毫秒轉換為取樣點\n",
    "\n",
    "    # 計算音訊數據的 MFCC 特徵\n",
    "    mfcc_feature = librosa.feature.mfcc(\n",
    "        y=voice, sr=sample_rate, n_mfcc=13, n_fft=n_fft, hop_length=hop_length)\n",
    "\n",
    "    # 計算 MFCC 的一階和二階差分特徵\n",
    "    delta_mfcc_feature = librosa.feature.delta(mfcc_feature)\n",
    "\n",
    "    # 將原始 MFCC 特徵和差分特徵串聯起來，得到所有幀的特徵向量\n",
    "    mfccs = np.concatenate((mfcc_feature, delta_mfcc_feature))\n",
    "    mfccs_features = np.transpose(mfccs)  # 將矩陣轉置，使每行代表一個幀\n",
    "\n",
    "    # 返回特徵向量\n",
    "    return mfccs_features"
   ]
  },
  {
   "cell_type": "code",
   "execution_count": 220,
   "metadata": {},
   "outputs": [
    {
     "ename": "TypeError",
     "evalue": "'numpy._DTypeMeta' object is not subscriptable",
     "output_type": "error",
     "traceback": [
      "\u001b[1;31m---------------------------------------------------------------------------\u001b[0m",
      "\u001b[1;31mTypeError\u001b[0m                                 Traceback (most recent call last)",
      "\u001b[1;32m~\\AppData\\Local\\Temp\\ipykernel_28152\\2703109039.py\u001b[0m in \u001b[0;36m<module>\u001b[1;34m\u001b[0m\n\u001b[0;32m      3\u001b[0m \u001b[1;32mfor\u001b[0m \u001b[0mid\u001b[0m \u001b[1;32min\u001b[0m \u001b[0mtraining_id\u001b[0m\u001b[1;33m:\u001b[0m\u001b[1;33m\u001b[0m\u001b[1;33m\u001b[0m\u001b[0m\n\u001b[0;32m      4\u001b[0m \u001b[1;33m\u001b[0m\u001b[0m\n\u001b[1;32m----> 5\u001b[1;33m     \u001b[0mmfccs_feature\u001b[0m \u001b[1;33m=\u001b[0m \u001b[0maudio_to_mfccs\u001b[0m\u001b[1;33m(\u001b[0m\u001b[0mdf_csv\u001b[0m\u001b[1;33m[\u001b[0m\u001b[0mdf_csv\u001b[0m\u001b[1;33m[\u001b[0m\u001b[1;34m'ID'\u001b[0m\u001b[1;33m]\u001b[0m\u001b[1;33m==\u001b[0m\u001b[0mid\u001b[0m\u001b[1;33m]\u001b[0m\u001b[1;33m[\u001b[0m\u001b[1;34m'wav_path'\u001b[0m\u001b[1;33m]\u001b[0m\u001b[1;33m.\u001b[0m\u001b[0mvalues\u001b[0m\u001b[1;33m[\u001b[0m\u001b[1;36m0\u001b[0m\u001b[1;33m]\u001b[0m\u001b[1;33m)\u001b[0m\u001b[1;33m\u001b[0m\u001b[1;33m\u001b[0m\u001b[0m\n\u001b[0m\u001b[0;32m      6\u001b[0m     \u001b[0mdf\u001b[0m \u001b[1;33m=\u001b[0m \u001b[0mpd\u001b[0m\u001b[1;33m.\u001b[0m\u001b[0mDataFrame\u001b[0m\u001b[1;33m(\u001b[0m\u001b[1;33m)\u001b[0m\u001b[1;33m\u001b[0m\u001b[1;33m\u001b[0m\u001b[0m\n\u001b[0;32m      7\u001b[0m     \u001b[1;32mfor\u001b[0m \u001b[0mi\u001b[0m \u001b[1;32min\u001b[0m \u001b[0mrange\u001b[0m\u001b[1;33m(\u001b[0m\u001b[1;36m26\u001b[0m\u001b[1;33m)\u001b[0m\u001b[1;33m:\u001b[0m\u001b[1;33m\u001b[0m\u001b[1;33m\u001b[0m\u001b[0m\n",
      "\u001b[1;32m~\\AppData\\Local\\Temp\\ipykernel_28152\\4128282596.py\u001b[0m in \u001b[0;36maudio_to_mfccs\u001b[1;34m(filename, sample_rate, offset, duration)\u001b[0m\n\u001b[0;32m      2\u001b[0m \u001b[1;32mdef\u001b[0m \u001b[0maudio_to_mfccs\u001b[0m\u001b[1;33m(\u001b[0m\u001b[0mfilename\u001b[0m\u001b[1;33m,\u001b[0m \u001b[0msample_rate\u001b[0m\u001b[1;33m=\u001b[0m\u001b[1;36m44100\u001b[0m\u001b[1;33m,\u001b[0m \u001b[0moffset\u001b[0m\u001b[1;33m=\u001b[0m\u001b[1;36m0\u001b[0m\u001b[1;33m,\u001b[0m \u001b[0mduration\u001b[0m\u001b[1;33m=\u001b[0m\u001b[1;32mNone\u001b[0m\u001b[1;33m)\u001b[0m\u001b[1;33m:\u001b[0m\u001b[1;33m\u001b[0m\u001b[1;33m\u001b[0m\u001b[0m\n\u001b[0;32m      3\u001b[0m     \u001b[1;31m# 讀取音訊檔案，並設定取樣率、起始時間、及持續時間\u001b[0m\u001b[1;33m\u001b[0m\u001b[1;33m\u001b[0m\u001b[0m\n\u001b[1;32m----> 4\u001b[1;33m     voice, sample_rate = librosa.load(\n\u001b[0m\u001b[0;32m      5\u001b[0m         \u001b[0mfilename\u001b[0m\u001b[1;33m,\u001b[0m \u001b[0msr\u001b[0m\u001b[1;33m=\u001b[0m\u001b[0msample_rate\u001b[0m\u001b[1;33m,\u001b[0m \u001b[0moffset\u001b[0m\u001b[1;33m=\u001b[0m\u001b[0moffset\u001b[0m\u001b[1;33m,\u001b[0m \u001b[0mduration\u001b[0m\u001b[1;33m=\u001b[0m\u001b[0mduration\u001b[0m\u001b[1;33m\u001b[0m\u001b[1;33m\u001b[0m\u001b[0m\n\u001b[0;32m      6\u001b[0m     )\n",
      "\u001b[1;32mc:\\Users\\user\\anaconda31\\lib\\site-packages\\lazy_loader\\__init__.py\u001b[0m in \u001b[0;36m__getattr__\u001b[1;34m(name)\u001b[0m\n\u001b[0;32m     75\u001b[0m             \u001b[0msubmod_path\u001b[0m \u001b[1;33m=\u001b[0m \u001b[1;34mf\"{package_name}.{attr_to_modules[name]}\"\u001b[0m\u001b[1;33m\u001b[0m\u001b[1;33m\u001b[0m\u001b[0m\n\u001b[0;32m     76\u001b[0m             \u001b[0msubmod\u001b[0m \u001b[1;33m=\u001b[0m \u001b[0mimportlib\u001b[0m\u001b[1;33m.\u001b[0m\u001b[0mimport_module\u001b[0m\u001b[1;33m(\u001b[0m\u001b[0msubmod_path\u001b[0m\u001b[1;33m)\u001b[0m\u001b[1;33m\u001b[0m\u001b[1;33m\u001b[0m\u001b[0m\n\u001b[1;32m---> 77\u001b[1;33m             \u001b[0mattr\u001b[0m \u001b[1;33m=\u001b[0m \u001b[0mgetattr\u001b[0m\u001b[1;33m(\u001b[0m\u001b[0msubmod\u001b[0m\u001b[1;33m,\u001b[0m \u001b[0mname\u001b[0m\u001b[1;33m)\u001b[0m\u001b[1;33m\u001b[0m\u001b[1;33m\u001b[0m\u001b[0m\n\u001b[0m\u001b[0;32m     78\u001b[0m \u001b[1;33m\u001b[0m\u001b[0m\n\u001b[0;32m     79\u001b[0m             \u001b[1;31m# If the attribute lives in a file (module) with the same\u001b[0m\u001b[1;33m\u001b[0m\u001b[1;33m\u001b[0m\u001b[0m\n",
      "\u001b[1;32mc:\\Users\\user\\anaconda31\\lib\\site-packages\\lazy_loader\\__init__.py\u001b[0m in \u001b[0;36m__getattr__\u001b[1;34m(name)\u001b[0m\n\u001b[0;32m     74\u001b[0m         \u001b[1;32melif\u001b[0m \u001b[0mname\u001b[0m \u001b[1;32min\u001b[0m \u001b[0mattr_to_modules\u001b[0m\u001b[1;33m:\u001b[0m\u001b[1;33m\u001b[0m\u001b[1;33m\u001b[0m\u001b[0m\n\u001b[0;32m     75\u001b[0m             \u001b[0msubmod_path\u001b[0m \u001b[1;33m=\u001b[0m \u001b[1;34mf\"{package_name}.{attr_to_modules[name]}\"\u001b[0m\u001b[1;33m\u001b[0m\u001b[1;33m\u001b[0m\u001b[0m\n\u001b[1;32m---> 76\u001b[1;33m             \u001b[0msubmod\u001b[0m \u001b[1;33m=\u001b[0m \u001b[0mimportlib\u001b[0m\u001b[1;33m.\u001b[0m\u001b[0mimport_module\u001b[0m\u001b[1;33m(\u001b[0m\u001b[0msubmod_path\u001b[0m\u001b[1;33m)\u001b[0m\u001b[1;33m\u001b[0m\u001b[1;33m\u001b[0m\u001b[0m\n\u001b[0m\u001b[0;32m     77\u001b[0m             \u001b[0mattr\u001b[0m \u001b[1;33m=\u001b[0m \u001b[0mgetattr\u001b[0m\u001b[1;33m(\u001b[0m\u001b[0msubmod\u001b[0m\u001b[1;33m,\u001b[0m \u001b[0mname\u001b[0m\u001b[1;33m)\u001b[0m\u001b[1;33m\u001b[0m\u001b[1;33m\u001b[0m\u001b[0m\n\u001b[0;32m     78\u001b[0m \u001b[1;33m\u001b[0m\u001b[0m\n",
      "\u001b[1;32mc:\\Users\\user\\anaconda31\\lib\\importlib\\__init__.py\u001b[0m in \u001b[0;36mimport_module\u001b[1;34m(name, package)\u001b[0m\n\u001b[0;32m    125\u001b[0m                 \u001b[1;32mbreak\u001b[0m\u001b[1;33m\u001b[0m\u001b[1;33m\u001b[0m\u001b[0m\n\u001b[0;32m    126\u001b[0m             \u001b[0mlevel\u001b[0m \u001b[1;33m+=\u001b[0m \u001b[1;36m1\u001b[0m\u001b[1;33m\u001b[0m\u001b[1;33m\u001b[0m\u001b[0m\n\u001b[1;32m--> 127\u001b[1;33m     \u001b[1;32mreturn\u001b[0m \u001b[0m_bootstrap\u001b[0m\u001b[1;33m.\u001b[0m\u001b[0m_gcd_import\u001b[0m\u001b[1;33m(\u001b[0m\u001b[0mname\u001b[0m\u001b[1;33m[\u001b[0m\u001b[0mlevel\u001b[0m\u001b[1;33m:\u001b[0m\u001b[1;33m]\u001b[0m\u001b[1;33m,\u001b[0m \u001b[0mpackage\u001b[0m\u001b[1;33m,\u001b[0m \u001b[0mlevel\u001b[0m\u001b[1;33m)\u001b[0m\u001b[1;33m\u001b[0m\u001b[1;33m\u001b[0m\u001b[0m\n\u001b[0m\u001b[0;32m    128\u001b[0m \u001b[1;33m\u001b[0m\u001b[0m\n\u001b[0;32m    129\u001b[0m \u001b[1;33m\u001b[0m\u001b[0m\n",
      "\u001b[1;32mc:\\Users\\user\\anaconda31\\lib\\importlib\\_bootstrap.py\u001b[0m in \u001b[0;36m_gcd_import\u001b[1;34m(name, package, level)\u001b[0m\n",
      "\u001b[1;32mc:\\Users\\user\\anaconda31\\lib\\importlib\\_bootstrap.py\u001b[0m in \u001b[0;36m_find_and_load\u001b[1;34m(name, import_)\u001b[0m\n",
      "\u001b[1;32mc:\\Users\\user\\anaconda31\\lib\\importlib\\_bootstrap.py\u001b[0m in \u001b[0;36m_find_and_load_unlocked\u001b[1;34m(name, import_)\u001b[0m\n",
      "\u001b[1;32mc:\\Users\\user\\anaconda31\\lib\\importlib\\_bootstrap.py\u001b[0m in \u001b[0;36m_load_unlocked\u001b[1;34m(spec)\u001b[0m\n",
      "\u001b[1;32mc:\\Users\\user\\anaconda31\\lib\\importlib\\_bootstrap_external.py\u001b[0m in \u001b[0;36mexec_module\u001b[1;34m(self, module)\u001b[0m\n",
      "\u001b[1;32mc:\\Users\\user\\anaconda31\\lib\\importlib\\_bootstrap.py\u001b[0m in \u001b[0;36m_call_with_frames_removed\u001b[1;34m(f, *args, **kwds)\u001b[0m\n",
      "\u001b[1;32mc:\\Users\\user\\anaconda31\\lib\\site-packages\\librosa\\core\\audio.py\u001b[0m in \u001b[0;36m<module>\u001b[1;34m\u001b[0m\n\u001b[0;32m     17\u001b[0m \u001b[1;32mfrom\u001b[0m \u001b[0mnumba\u001b[0m \u001b[1;32mimport\u001b[0m \u001b[0mjit\u001b[0m\u001b[1;33m,\u001b[0m \u001b[0mstencil\u001b[0m\u001b[1;33m,\u001b[0m \u001b[0mguvectorize\u001b[0m\u001b[1;33m\u001b[0m\u001b[1;33m\u001b[0m\u001b[0m\n\u001b[0;32m     18\u001b[0m \u001b[1;32mfrom\u001b[0m \u001b[1;33m.\u001b[0m\u001b[0mfft\u001b[0m \u001b[1;32mimport\u001b[0m \u001b[0mget_fftlib\u001b[0m\u001b[1;33m\u001b[0m\u001b[1;33m\u001b[0m\u001b[0m\n\u001b[1;32m---> 19\u001b[1;33m \u001b[1;32mfrom\u001b[0m \u001b[1;33m.\u001b[0m\u001b[0mconvert\u001b[0m \u001b[1;32mimport\u001b[0m \u001b[0mframes_to_samples\u001b[0m\u001b[1;33m,\u001b[0m \u001b[0mtime_to_samples\u001b[0m\u001b[1;33m\u001b[0m\u001b[1;33m\u001b[0m\u001b[0m\n\u001b[0m\u001b[0;32m     20\u001b[0m \u001b[1;32mfrom\u001b[0m \u001b[1;33m.\u001b[0m\u001b[1;33m.\u001b[0m\u001b[0m_cache\u001b[0m \u001b[1;32mimport\u001b[0m \u001b[0mcache\u001b[0m\u001b[1;33m\u001b[0m\u001b[1;33m\u001b[0m\u001b[0m\n\u001b[0;32m     21\u001b[0m \u001b[1;32mfrom\u001b[0m \u001b[1;33m.\u001b[0m\u001b[1;33m.\u001b[0m \u001b[1;32mimport\u001b[0m \u001b[0mutil\u001b[0m\u001b[1;33m\u001b[0m\u001b[1;33m\u001b[0m\u001b[0m\n",
      "\u001b[1;32mc:\\Users\\user\\anaconda31\\lib\\site-packages\\librosa\\core\\convert.py\u001b[0m in \u001b[0;36m<module>\u001b[1;34m\u001b[0m\n\u001b[0;32m      5\u001b[0m \u001b[1;32mimport\u001b[0m \u001b[0mre\u001b[0m\u001b[1;33m\u001b[0m\u001b[1;33m\u001b[0m\u001b[0m\n\u001b[0;32m      6\u001b[0m \u001b[1;32mimport\u001b[0m \u001b[0mnumpy\u001b[0m \u001b[1;32mas\u001b[0m \u001b[0mnp\u001b[0m\u001b[1;33m\u001b[0m\u001b[1;33m\u001b[0m\u001b[0m\n\u001b[1;32m----> 7\u001b[1;33m \u001b[1;32mfrom\u001b[0m \u001b[1;33m.\u001b[0m \u001b[1;32mimport\u001b[0m \u001b[0mnotation\u001b[0m\u001b[1;33m\u001b[0m\u001b[1;33m\u001b[0m\u001b[0m\n\u001b[0m\u001b[0;32m      8\u001b[0m \u001b[1;32mfrom\u001b[0m \u001b[1;33m.\u001b[0m\u001b[1;33m.\u001b[0m\u001b[0mutil\u001b[0m\u001b[1;33m.\u001b[0m\u001b[0mexceptions\u001b[0m \u001b[1;32mimport\u001b[0m \u001b[0mParameterError\u001b[0m\u001b[1;33m\u001b[0m\u001b[1;33m\u001b[0m\u001b[0m\n\u001b[0;32m      9\u001b[0m \u001b[1;32mfrom\u001b[0m \u001b[1;33m.\u001b[0m\u001b[1;33m.\u001b[0m\u001b[0mutil\u001b[0m\u001b[1;33m.\u001b[0m\u001b[0mdecorators\u001b[0m \u001b[1;32mimport\u001b[0m \u001b[0mvectorize\u001b[0m\u001b[1;33m\u001b[0m\u001b[1;33m\u001b[0m\u001b[0m\n",
      "\u001b[1;32mc:\\Users\\user\\anaconda31\\lib\\site-packages\\librosa\\core\\notation.py\u001b[0m in \u001b[0;36m<module>\u001b[1;34m\u001b[0m\n\u001b[0;32m      6\u001b[0m \u001b[1;32mimport\u001b[0m \u001b[0mnumpy\u001b[0m \u001b[1;32mas\u001b[0m \u001b[0mnp\u001b[0m\u001b[1;33m\u001b[0m\u001b[1;33m\u001b[0m\u001b[0m\n\u001b[0;32m      7\u001b[0m \u001b[1;32mfrom\u001b[0m \u001b[0mnumba\u001b[0m \u001b[1;32mimport\u001b[0m \u001b[0mjit\u001b[0m\u001b[1;33m\u001b[0m\u001b[1;33m\u001b[0m\u001b[0m\n\u001b[1;32m----> 8\u001b[1;33m \u001b[1;32mfrom\u001b[0m \u001b[1;33m.\u001b[0m\u001b[0mintervals\u001b[0m \u001b[1;32mimport\u001b[0m \u001b[0mINTERVALS\u001b[0m\u001b[1;33m\u001b[0m\u001b[1;33m\u001b[0m\u001b[0m\n\u001b[0m\u001b[0;32m      9\u001b[0m \u001b[1;32mfrom\u001b[0m \u001b[1;33m.\u001b[0m\u001b[1;33m.\u001b[0m\u001b[0m_cache\u001b[0m \u001b[1;32mimport\u001b[0m \u001b[0mcache\u001b[0m\u001b[1;33m\u001b[0m\u001b[1;33m\u001b[0m\u001b[0m\n\u001b[0;32m     10\u001b[0m \u001b[1;32mfrom\u001b[0m \u001b[1;33m.\u001b[0m\u001b[1;33m.\u001b[0m\u001b[0mutil\u001b[0m\u001b[1;33m.\u001b[0m\u001b[0mexceptions\u001b[0m \u001b[1;32mimport\u001b[0m \u001b[0mParameterError\u001b[0m\u001b[1;33m\u001b[0m\u001b[1;33m\u001b[0m\u001b[0m\n",
      "\u001b[1;32mc:\\Users\\user\\anaconda31\\lib\\site-packages\\librosa\\core\\intervals.py\u001b[0m in \u001b[0;36m<module>\u001b[1;34m\u001b[0m\n\u001b[0;32m      8\u001b[0m \u001b[1;32mfrom\u001b[0m \u001b[0mpkg_resources\u001b[0m \u001b[1;32mimport\u001b[0m \u001b[0mresource_filename\u001b[0m\u001b[1;33m\u001b[0m\u001b[1;33m\u001b[0m\u001b[0m\n\u001b[0;32m      9\u001b[0m \u001b[1;32mimport\u001b[0m \u001b[0mnumpy\u001b[0m \u001b[1;32mas\u001b[0m \u001b[0mnp\u001b[0m\u001b[1;33m\u001b[0m\u001b[1;33m\u001b[0m\u001b[0m\n\u001b[1;32m---> 10\u001b[1;33m \u001b[1;32mfrom\u001b[0m \u001b[0mnumpy\u001b[0m\u001b[1;33m.\u001b[0m\u001b[0mtyping\u001b[0m \u001b[1;32mimport\u001b[0m \u001b[0mArrayLike\u001b[0m\u001b[1;33m\u001b[0m\u001b[1;33m\u001b[0m\u001b[0m\n\u001b[0m\u001b[0;32m     11\u001b[0m \u001b[1;32mfrom\u001b[0m \u001b[1;33m.\u001b[0m\u001b[1;33m.\u001b[0m\u001b[0m_cache\u001b[0m \u001b[1;32mimport\u001b[0m \u001b[0mcache\u001b[0m\u001b[1;33m\u001b[0m\u001b[1;33m\u001b[0m\u001b[0m\n\u001b[0;32m     12\u001b[0m \u001b[1;32mfrom\u001b[0m \u001b[1;33m.\u001b[0m\u001b[1;33m.\u001b[0m\u001b[0m_typing\u001b[0m \u001b[1;32mimport\u001b[0m \u001b[0m_FloatLike_co\u001b[0m\u001b[1;33m\u001b[0m\u001b[1;33m\u001b[0m\u001b[0m\n",
      "\u001b[1;32mc:\\Users\\user\\anaconda31\\lib\\site-packages\\numpy\\typing\\__init__.py\u001b[0m in \u001b[0;36m<module>\u001b[1;34m\u001b[0m\n\u001b[0;32m    156\u001b[0m \u001b[1;31m# further down in this file\u001b[0m\u001b[1;33m\u001b[0m\u001b[1;33m\u001b[0m\u001b[0m\n\u001b[0;32m    157\u001b[0m \u001b[1;33m\u001b[0m\u001b[0m\n\u001b[1;32m--> 158\u001b[1;33m from numpy._typing import (\n\u001b[0m\u001b[0;32m    159\u001b[0m     \u001b[0mArrayLike\u001b[0m\u001b[1;33m,\u001b[0m\u001b[1;33m\u001b[0m\u001b[1;33m\u001b[0m\u001b[0m\n\u001b[0;32m    160\u001b[0m     \u001b[0mDTypeLike\u001b[0m\u001b[1;33m,\u001b[0m\u001b[1;33m\u001b[0m\u001b[1;33m\u001b[0m\u001b[0m\n",
      "\u001b[1;32mc:\\Users\\user\\anaconda31\\lib\\site-packages\\numpy\\_typing\\__init__.py\u001b[0m in \u001b[0;36m<module>\u001b[1;34m\u001b[0m\n\u001b[0;32m    162\u001b[0m     \u001b[0m_ShapeLike\u001b[0m \u001b[1;32mas\u001b[0m \u001b[0m_ShapeLike\u001b[0m\u001b[1;33m,\u001b[0m\u001b[1;33m\u001b[0m\u001b[1;33m\u001b[0m\u001b[0m\n\u001b[0;32m    163\u001b[0m )\n\u001b[1;32m--> 164\u001b[1;33m from ._dtype_like import (\n\u001b[0m\u001b[0;32m    165\u001b[0m     \u001b[0mDTypeLike\u001b[0m \u001b[1;32mas\u001b[0m \u001b[0mDTypeLike\u001b[0m\u001b[1;33m,\u001b[0m\u001b[1;33m\u001b[0m\u001b[1;33m\u001b[0m\u001b[0m\n\u001b[0;32m    166\u001b[0m     \u001b[0m_DTypeLike\u001b[0m \u001b[1;32mas\u001b[0m \u001b[0m_DTypeLike\u001b[0m\u001b[1;33m,\u001b[0m\u001b[1;33m\u001b[0m\u001b[1;33m\u001b[0m\u001b[0m\n",
      "\u001b[1;32mc:\\Users\\user\\anaconda31\\lib\\site-packages\\numpy\\_typing\\_dtype_like.py\u001b[0m in \u001b[0;36m<module>\u001b[1;34m\u001b[0m\n\u001b[0;32m     15\u001b[0m \u001b[1;33m\u001b[0m\u001b[0m\n\u001b[0;32m     16\u001b[0m \u001b[1;32mfrom\u001b[0m \u001b[1;33m.\u001b[0m\u001b[0m_shape\u001b[0m \u001b[1;32mimport\u001b[0m \u001b[0m_ShapeLike\u001b[0m\u001b[1;33m\u001b[0m\u001b[1;33m\u001b[0m\u001b[0m\n\u001b[1;32m---> 17\u001b[1;33m \u001b[1;32mfrom\u001b[0m \u001b[1;33m.\u001b[0m\u001b[0m_generic_alias\u001b[0m \u001b[1;32mimport\u001b[0m \u001b[0m_DType\u001b[0m \u001b[1;32mas\u001b[0m \u001b[0mDType\u001b[0m\u001b[1;33m\u001b[0m\u001b[1;33m\u001b[0m\u001b[0m\n\u001b[0m\u001b[0;32m     18\u001b[0m \u001b[1;33m\u001b[0m\u001b[0m\n\u001b[0;32m     19\u001b[0m from ._char_codes import (\n",
      "\u001b[1;32mc:\\Users\\user\\anaconda31\\lib\\site-packages\\numpy\\_typing\\_generic_alias.py\u001b[0m in \u001b[0;36m<module>\u001b[1;34m\u001b[0m\n\u001b[0;32m    239\u001b[0m \u001b[1;33m\u001b[0m\u001b[0m\n\u001b[0;32m    240\u001b[0m \u001b[1;32mif\u001b[0m \u001b[0mTYPE_CHECKING\u001b[0m \u001b[1;32mor\u001b[0m \u001b[0msys\u001b[0m\u001b[1;33m.\u001b[0m\u001b[0mversion_info\u001b[0m \u001b[1;33m>=\u001b[0m \u001b[1;33m(\u001b[0m\u001b[1;36m3\u001b[0m\u001b[1;33m,\u001b[0m \u001b[1;36m9\u001b[0m\u001b[1;33m)\u001b[0m\u001b[1;33m:\u001b[0m\u001b[1;33m\u001b[0m\u001b[1;33m\u001b[0m\u001b[0m\n\u001b[1;32m--> 241\u001b[1;33m     \u001b[0m_DType\u001b[0m \u001b[1;33m=\u001b[0m \u001b[0mnp\u001b[0m\u001b[1;33m.\u001b[0m\u001b[0mdtype\u001b[0m\u001b[1;33m[\u001b[0m\u001b[0mScalarType\u001b[0m\u001b[1;33m]\u001b[0m\u001b[1;33m\u001b[0m\u001b[1;33m\u001b[0m\u001b[0m\n\u001b[0m\u001b[0;32m    242\u001b[0m     \u001b[0mNDArray\u001b[0m \u001b[1;33m=\u001b[0m \u001b[0mnp\u001b[0m\u001b[1;33m.\u001b[0m\u001b[0mndarray\u001b[0m\u001b[1;33m[\u001b[0m\u001b[0mAny\u001b[0m\u001b[1;33m,\u001b[0m \u001b[0mnp\u001b[0m\u001b[1;33m.\u001b[0m\u001b[0mdtype\u001b[0m\u001b[1;33m[\u001b[0m\u001b[0mScalarType\u001b[0m\u001b[1;33m]\u001b[0m\u001b[1;33m]\u001b[0m\u001b[1;33m\u001b[0m\u001b[1;33m\u001b[0m\u001b[0m\n\u001b[0;32m    243\u001b[0m \u001b[1;32melse\u001b[0m\u001b[1;33m:\u001b[0m\u001b[1;33m\u001b[0m\u001b[1;33m\u001b[0m\u001b[0m\n",
      "\u001b[1;31mTypeError\u001b[0m: 'numpy._DTypeMeta' object is not subscriptable"
     ]
    }
   ],
   "source": [
    "\n",
    "training_id = df_csv['ID'].tolist()\n",
    "training_data = pd.DataFrame()\n",
    "for id in training_id:\n",
    "    \n",
    "    mfccs_feature = audio_to_mfccs(df_csv[df_csv['ID']==id]['wav_path'].values[0])\n",
    "    df = pd.DataFrame()\n",
    "    for i in range(26):\n",
    "        df_i = pd.DataFrame(np.array(mfccs_feature[0][i]).reshape(1,-1))\n",
    "        df = pd.concat([df, df_i], axis=1)\n",
    "        \n",
    "    # print(\"id :\",id, \", number of frames :\", df.shape[0])\n",
    "    # 訓練資料標記\n",
    "    label = df_csv[df_csv['ID']==id]['Disease category'].values[0]\n",
    "    if label==1:\n",
    "        df['c1'] = 1; df['c2'] = 0; df['c3'] = 0 ; df['c4'] = 0; df['c5'] = 0\n",
    "    elif label==2:\n",
    "        df['c1'] = 0; df['c2'] = 1; df['c3'] = 0 ; df['c4'] = 0; df['c5'] = 0\n",
    "    elif label==3:\n",
    "        df['c1'] = 0; df['c2'] = 0; df['c3'] = 1 ; df['c4'] = 0; df['c5'] = 0\n",
    "    elif label==4:\n",
    "        df['c1'] = 0; df['c2'] = 0; df['c3'] = 0 ; df['c4'] = 1; df['c5'] = 0\n",
    "    elif label==5:\n",
    "        df['c1'] = 0; df['c2'] = 0; df['c3'] = 0 ; df['c4'] = 0; df['c5'] = 1\n",
    "    else:\n",
    "        df['c1'] = np.nan; df['c2'] = np.nan; df['c3'] = np.nan; df['c4'] = np.nan; df['c5'] = np.nan\n",
    "\n",
    "    training_data = pd.concat([training_data, df])\n",
    "    \n",
    "print(\"training_data.shape :\", training_data.shape)\n",
    "\n",
    "x_train = training_data.iloc[:, :-5]\n",
    "y_train = training_data.iloc[:, -5:]\n",
    "print(\"x_train.shape, y_train.shape :\", x_train.shape, y_train.shape)\n",
    "print(\"y_train.columns :\", y_train.columns.tolist())\n"
   ]
  },
  {
   "cell_type": "code",
   "execution_count": 221,
   "metadata": {},
   "outputs": [
    {
     "name": "stdout",
     "output_type": "stream",
     "text": [
      "[[1 0 0 0 0]\n",
      " [0 1 0 0 0]\n",
      " [0 1 0 0 0]\n",
      " ...\n",
      " [0 0 1 0 0]\n",
      " [0 1 0 0 0]\n",
      " [0 1 0 0 0]]\n",
      "[[-5.53074524e+02  1.48494080e+02  1.46729660e+01 ... -3.93367976e-01\n",
      "  -3.19579206e-02  1.06491983e+00]\n",
      " [-2.22018585e+02  1.32414246e+02 -1.35683060e+00 ... -9.75926936e-01\n",
      "  -3.62859637e-01  6.54560566e-01]\n",
      " [-3.39410553e+02  1.86702805e+02 -2.79492817e+01 ... -4.88830119e-01\n",
      "  -7.36986995e-01  4.74724650e-01]\n",
      " ...\n",
      " [-2.79279510e+02  1.13782791e+02 -2.01488895e+01 ... -6.52139187e-01\n",
      "  -1.33095014e+00  1.11008868e-01]\n",
      " [-4.17048859e+02  1.23644379e+02  3.54444265e+00 ... -1.04734026e-01\n",
      "   1.49622679e+00 -7.80113876e-01]\n",
      " [-3.73614166e+02  1.93103134e+02  2.38179951e+01 ...  3.70338380e-01\n",
      "   1.18615009e-01  1.16457713e+00]]\n",
      "(1000, 5)\n",
      "(1000, 26)\n",
      "[0 1 1 0 0 0 2 1 0 0 0 0 4 0 3 2 2 0 4 0 2 0 0 2 0 1 1 0 4 0 4 1 0 0 2 3 1\n",
      " 1 0 4 1 1 1 0 4 0 2 0 2 0 0 1 0 2 3 0 0 0 0 0 2 1 3 0 0 0 0 3 2 0 0 0 3 2\n",
      " 2 1 0 0 0 2 0 0 2 3 0 0 4 2 2 0 1 0 2 2 2 1 0 1 1 0 1 1 0 0 2 1 0 1 2 0 2\n",
      " 0 1 0 0 0 0 1 0 0 0 0 0 1 2 0 0 0 4 0 4 0 0 0 0 0 0 3 2 0 0 1 1 4 0 0 0 2\n",
      " 2 1 2 2 2 2 0 1 1 1 1 1 0 0 0 1 0 0 2 1 0 1 0 2 0 1 1 0 3 2 0 1 0 1 3 1 4\n",
      " 0 1 0 3 0 0 1 1 0 0 4 0 0 0 0 0 2 0 1 0 3 0 2 1 1 0 0 4 0 0 1 2 1 1 1 0 0\n",
      " 0 1 0 2 0 4 0 0 1 1 2 0 0 0 2 1 0 0 3 2 1 0 3 0 2 0 1 0 0 0 0 1 2 0 0 2 0\n",
      " 2 0 0 1 4 1 0 0 0 0 1 0 0 1 0 2 0 1 0 0 1 1 2 1 0 2 1 1 0 0 2 1 2 1 0 0 0\n",
      " 4 2 1 0 0 3 1 4 0 2 0 2 0 0 0 0 1 0 1 0 0 1 0 4 0 0 2 0 2 0 1 0 1 4 2 0 1\n",
      " 0 0 3 0 2 0 0 0 0 1 0 0 1 0 1 1 0 0 0 0 2 0 3 0 0 0 0 0 0 1 0 2 1 0 0 0 0\n",
      " 0 0 0 0 1 2 2 0 0 2 4 1 0 1 2 0 0 2 0 3 0 0 0 1 0 1 0 1 3 2 1 0 0 1 0 0 2\n",
      " 1 0 1 0 0 1 1 1 0 1 0 1 1 0 0 0 0 0 2 0 1 0 3 0 0 0 2 0 0 2 0 1 0 0 2 0 0\n",
      " 1 1 0 1 0 0 2 0 2 2 2 1 1 0 1 0 2 1 0 0 0 1 0 1 2 0 1 0 0 0 1 2 2 0 2 0 3\n",
      " 1 1 1 1 0 0 0 0 0 2 2 0 2 1 0 1 0 0 0 1 0 3 1 2 0 1 0 0 0 1 0 0 0 0 0 3 0\n",
      " 0 4 0 0 0 2 1 0 0 2 2 2 0 0 1 2 0 0 0 1 2 2 0 3 1 2 3 3 0 0 2 2 2 0 0 2 2\n",
      " 0 0 1 0 0 2 0 1 0 1 0 0 0 0 1 0 1 0 0 1 1 2 1 1 0 0 1 0 2 0 0 0 0 2 0 0 0\n",
      " 1 0 2 0 1 1 2 0 1 0 2 0 1 2 0 1 0 0 2 0 1 0 0 0 0 1 2 0 0 0 0 1 3 0 0 0 0\n",
      " 1 0 0 3 0 1 0 0 0 0 1 0 0 1 3 0 0 0 0 1 0 4 0 3 0 2 0 2 0 2 0 0 0 0 0 0 0\n",
      " 0 0 1 4 0 0 1 2 0 2 1 0 0 0 0 2 0 0 3 2 0 1 0 3 1 0 0 1 0 2 2 1 1 2 0 0 0\n",
      " 0 0 0 0 0 1 0 0 0 1 0 0 3 2 0 2 0 3 1 0 2 1 1 2 0 0 1 0 0 0 0 2 2 2 0 2 0\n",
      " 0 0 4 0 2 0 0 0 1 1 2 0 0 2 0 0 0 4 0 1 2 0 0 3 0 0 3 2 2 0 0 1 1 1 0 1 0\n",
      " 0 0 0 0 0 2 0 2 1 0 0 4 2 0 3 4 0 2 0 0 1 0 0 2 1 2 0 1 2 4 0 1 4 1 0 0 0\n",
      " 0 0 1 0 1 1 0 1 0 0 0 0 0 0 0 1 3 0 4 0 0 3 1 0 1 0 0 2 2 1 0 0 0 1 0 1 1\n",
      " 0 0 0 2 1 0 0 1 0 0 0 1 2 1 1 1 2 0 2 2 0 1 0 0 0 1 0 0 2 0 0 2 0 0 0 1 0\n",
      " 0 1 1 1 2 0 0 0 0 0 0 0 0 0 0 0 0 0 0 0 4 0 2 2 1 2 0 0 1 2 1 2 1 0 0 0 1\n",
      " 0 2 1 2 0 0 0 0 0 1 3 0 0 0 0 0 2 2 1 0 1 2 0 0 2 0 0 1 0 0 3 2 0 4 1 0 0\n",
      " 3 3 0 0 2 0 0 0 0 0 2 2 0 1 0 0 0 1 0 0 1 2 0 0 1 2 2 1 1 0 0 0 2 2 3 2 1\n",
      " 1]\n"
     ]
    }
   ],
   "source": [
    "x = x_train.to_numpy()\n",
    "y = y_train.to_numpy()\n",
    "\n",
    "\n",
    "y = np.argmax(y, axis=1)\n",
    "\n",
    "print(y)"
   ]
  },
  {
   "cell_type": "code",
   "execution_count": 222,
   "metadata": {},
   "outputs": [],
   "source": [
    "for i in range(len(y)):\n",
    "    y[i] += 1"
   ]
  },
  {
   "cell_type": "code",
   "execution_count": 223,
   "metadata": {},
   "outputs": [
    {
     "name": "stdout",
     "output_type": "stream",
     "text": [
      "[[ 1.48494080e+02 -5.53074524e+02 -1.63179493e+01 -5.11780977e-01\n",
      "   1.11396294e+02 -4.17364942e+00]\n",
      " [ 1.32414246e+02 -2.22018585e+02 -6.04307556e+00 -9.04636979e-01\n",
      "   5.09200935e+01 -2.15934679e+00]\n",
      " [ 1.86702805e+02 -3.39410553e+02 -1.00040083e+01 -6.12908542e-01\n",
      "   7.62460938e+01 -2.44126632e+00]\n",
      " ...\n",
      " [ 1.13782791e+02 -2.79279510e+02 -9.72987843e+00 -1.34194613e+00\n",
      "   5.88886871e+01 -3.32960002e+00]\n",
      " [ 1.23644379e+02 -4.17048859e+02 -1.30127821e+01 -2.56308377e-01\n",
      "   8.47630157e+01 -3.99959885e+00]\n",
      " [ 1.93103134e+02 -3.73614166e+02 -9.09355068e+00 -3.75599675e-02\n",
      "   8.26008835e+01 -2.73785199e+00]]\n"
     ]
    }
   ],
   "source": [
    "new_x = np.zeros((1000, 6))\n",
    "for i in range(1000):\n",
    "    # 計算最大值\n",
    "    max_a = np.max(x[i])\n",
    "\n",
    "    # 計算最小值\n",
    "    min_a = np.min(x[i])\n",
    "\n",
    "    # 計算平均數\n",
    "    mean_a = np.mean(x[i])\n",
    "\n",
    "    # 計算中位數\n",
    "    median_a = np.median(x[i])\n",
    "\n",
    "    # 計算標準差\n",
    "    std_a = np.std(x[i])\n",
    "\n",
    "    # 計算偏度\n",
    "    skew_a = skew(x[i])\n",
    "\n",
    "    # 轉換矩陣為一個包含六個元素的陣列\n",
    "    new_x[i] = np.array([max_a, min_a, mean_a, median_a, std_a, skew_a])\n",
    "print(new_x)"
   ]
  },
  {
   "cell_type": "code",
   "execution_count": 224,
   "metadata": {},
   "outputs": [],
   "source": [
    "x_train2, x_test ,y_train2, y_test = train_test_split(new_x, y, test_size=0.8, random_state=42)\n",
    "\n",
    "clf = OneVsOneClassifier(SVC(kernel=\"linear\"))\n",
    "\n",
    "clf.fit(x_train2,y_train2)\n",
    "\n",
    "y_pred = clf.predict(x_test)\n"
   ]
  },
  {
   "cell_type": "code",
   "execution_count": null,
   "metadata": {},
   "outputs": [],
   "source": [
    "print(y_pred)"
   ]
  }
 ],
 "metadata": {
  "kernelspec": {
   "display_name": "Python 3",
   "language": "python",
   "name": "python3"
  },
  "language_info": {
   "codemirror_mode": {
    "name": "ipython",
    "version": 3
   },
   "file_extension": ".py",
   "mimetype": "text/x-python",
   "name": "python",
   "nbconvert_exporter": "python",
   "pygments_lexer": "ipython3",
   "version": "3.9.13"
  },
  "orig_nbformat": 4
 },
 "nbformat": 4,
 "nbformat_minor": 2
}

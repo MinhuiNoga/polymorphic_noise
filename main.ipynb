{
 "cells": [
  {
   "attachments": {},
   "cell_type": "markdown",
   "metadata": {},
   "source": [
    "#import"
   ]
  },
  {
   "cell_type": "code",
   "execution_count": 1,
   "metadata": {},
   "outputs": [],
   "source": [
    "import numpy as np\n",
    "import pandas as pd\n",
    "import librosa"
   ]
  },
  {
   "cell_type": "code",
   "execution_count": 2,
   "metadata": {},
   "outputs": [
    {
     "name": "stdout",
     "output_type": "stream",
     "text": [
      "資料資訊\n",
      "<class 'pandas.core.frame.DataFrame'>\n",
      "RangeIndex: 1000 entries, 0 to 999\n",
      "Data columns (total 28 columns):\n",
      " #   Column                     Non-Null Count  Dtype  \n",
      "---  ------                     --------------  -----  \n",
      " 0   ID                         1000 non-null   object \n",
      " 1   Sex                        1000 non-null   int64  \n",
      " 2   Age                        1000 non-null   int64  \n",
      " 3   Disease category           1000 non-null   int64  \n",
      " 4   Narrow pitch range         1000 non-null   int64  \n",
      " 5   Decreased volume           1000 non-null   int64  \n",
      " 6   Fatigue                    1000 non-null   int64  \n",
      " 7   Dryness                    1000 non-null   int64  \n",
      " 8   Lumping                    1000 non-null   int64  \n",
      " 9   heartburn                  1000 non-null   int64  \n",
      " 10  Choking                    1000 non-null   int64  \n",
      " 11  Eye dryness                1000 non-null   int64  \n",
      " 12  PND                        1000 non-null   int64  \n",
      " 13  Smoking                    1000 non-null   int64  \n",
      " 14  PPD                        184 non-null    float64\n",
      " 15  Drinking                   1000 non-null   int64  \n",
      " 16  frequency                  1000 non-null   int64  \n",
      " 17  Diurnal pattern            1000 non-null   int64  \n",
      " 18  Onset of dysphonia         1000 non-null   int64  \n",
      " 19  Noise at work              1000 non-null   int64  \n",
      " 20  Occupational vocal demand  1000 non-null   int64  \n",
      " 21  Diabetes                   1000 non-null   int64  \n",
      " 22  Hypertension               1000 non-null   int64  \n",
      " 23  CAD                        1000 non-null   int64  \n",
      " 24  Head and Neck Cancer       1000 non-null   int64  \n",
      " 25  Head injury                1000 non-null   int64  \n",
      " 26  CVA                        1000 non-null   int64  \n",
      " 27  Voice handicap index - 10  993 non-null    float64\n",
      "dtypes: float64(2), int64(25), object(1)\n",
      "memory usage: 218.9+ KB\n"
     ]
    }
   ],
   "source": [
    "# 資料判斷\n",
    "df_csv = pd.read_csv(\"Training Dataset/training datalist.csv\")\n",
    "print(\"資料資訊\")\n",
    "df_csv.info()"
   ]
  },
  {
   "cell_type": "code",
   "execution_count": 5,
   "metadata": {},
   "outputs": [
    {
     "name": "stdout",
     "output_type": "stream",
     "text": [
      "Disease category in source_df : [1 2 3]\n",
      "source_df :\n",
      "           ID  Disease category  \\\n",
      "0    1202f15                 1   \n",
      "1    0600ve0                 2   \n",
      "2    1001o7l                 2   \n",
      "3    1201c1t                 1   \n",
      "4    0402jvt                 1   \n",
      "..       ...               ...   \n",
      "994  0T022un                 3   \n",
      "995  0G00ftn                 3   \n",
      "997  0202p64                 3   \n",
      "998  12021au                 2   \n",
      "999  04027it                 2   \n",
      "\n",
      "                                              wav_path  \n",
      "0    ./Training Dataset/training_voice_data1202f15.wav  \n",
      "1    ./Training Dataset/training_voice_data0600ve0.wav  \n",
      "2    ./Training Dataset/training_voice_data1001o7l.wav  \n",
      "3    ./Training Dataset/training_voice_data1201c1t.wav  \n",
      "4    ./Training Dataset/training_voice_data0402jvt.wav  \n",
      "..                                                 ...  \n",
      "994  ./Training Dataset/training_voice_data0T022un.wav  \n",
      "995  ./Training Dataset/training_voice_data0G00ftn.wav  \n",
      "997  ./Training Dataset/training_voice_data0202p64.wav  \n",
      "998  ./Training Dataset/training_voice_data12021au.wav  \n",
      "999  ./Training Dataset/training_voice_data04027it.wav  \n",
      "\n",
      "[924 rows x 3 columns]\n"
     ]
    }
   ],
   "source": [
    "# 挑選出要訓練的Disease category 1、2、3\n",
    "df_csv = df_csv.loc[df_csv['Disease category'].isin([1, 2, 3]), ['ID', 'Disease category']]\n",
    "\n",
    "# 在dataframe中加入要訓練的音檔路徑\n",
    "df_csv['wav_path'] = df_csv['ID'].map(\"./Training Dataset/training_voice_data{}.wav\".format)\n",
    "\n",
    "print(\"Disease category in source_df :\",df_csv['Disease category'].unique())\n",
    "print(\"source_df :\\n\", df_csv)"
   ]
  }
 ],
 "metadata": {
  "kernelspec": {
   "display_name": "Python 3",
   "language": "python",
   "name": "python3"
  },
  "language_info": {
   "codemirror_mode": {
    "name": "ipython",
    "version": 3
   },
   "file_extension": ".py",
   "mimetype": "text/x-python",
   "name": "python",
   "nbconvert_exporter": "python",
   "pygments_lexer": "ipython3",
   "version": "3.8.6"
  },
  "orig_nbformat": 4
 },
 "nbformat": 4,
 "nbformat_minor": 2
}
